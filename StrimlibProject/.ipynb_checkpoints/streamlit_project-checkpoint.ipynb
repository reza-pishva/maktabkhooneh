{
 "cells": [
  {
   "cell_type": "code",
   "execution_count": 1,
   "id": "058c973c",
   "metadata": {},
   "outputs": [
    {
     "name": "stderr",
     "output_type": "stream",
     "text": [
      "C:\\Users\\pishva_r\\Anaconda3\\lib\\site-packages\\scipy\\__init__.py:138: UserWarning: A NumPy version >=1.16.5 and <1.23.0 is required for this version of SciPy (detected version 1.24.4)\n",
      "  warnings.warn(f\"A NumPy version >={np_minversion} and <{np_maxversion} is required for this version of \"\n"
     ]
    },
    {
     "name": "stdout",
     "output_type": "stream",
     "text": [
      "              precision    recall  f1-score   support\n",
      "\n",
      "           0       1.00      1.00      1.00        10\n",
      "           1       1.00      1.00      1.00         9\n",
      "           2       1.00      1.00      1.00        11\n",
      "\n",
      "    accuracy                           1.00        30\n",
      "   macro avg       1.00      1.00      1.00        30\n",
      "weighted avg       1.00      1.00      1.00        30\n",
      "\n",
      "[[10  0  0]\n",
      " [ 0  9  0]\n",
      " [ 0  0 11]]\n"
     ]
    }
   ],
   "source": [
    "# Import necessary libraries\n",
    "from sklearn.datasets import load_iris\n",
    "from sklearn.model_selection import train_test_split\n",
    "from sklearn.neighbors import KNeighborsClassifier\n",
    "from sklearn.metrics import classification_report, confusion_matrix\n",
    "\n",
    "# Load the Iris dataset\n",
    "iris = load_iris()\n",
    "X = iris.data\n",
    "y = iris.target\n",
    "\n",
    "# Split the dataset into training and testing sets\n",
    "X_train, X_test, y_train, y_test = train_test_split(X, y, test_size=0.2, random_state=42)\n",
    "\n",
    "# Initialize the KNN classifier\n",
    "knn = KNeighborsClassifier(n_neighbors=3)\n",
    "\n",
    "# Fit the model on the training data\n",
    "knn.fit(X_train, y_train)\n",
    "\n",
    "# Make predictions on the test data\n",
    "predictions = knn.predict(X_test)\n",
    "\n",
    "# Print out the classification report and confusion matrix\n",
    "print(classification_report(y_test, predictions))\n",
    "print(confusion_matrix(y_test, predictions))"
   ]
  },
  {
   "cell_type": "code",
   "execution_count": 2,
   "id": "b34b344f",
   "metadata": {},
   "outputs": [
    {
     "name": "stdout",
     "output_type": "stream",
     "text": [
      "Requirement already satisfied: Streamlit in c:\\users\\pishva_r\\anaconda3\\lib\\site-packages (1.33.0)\n",
      "Requirement already satisfied: cachetools<6,>=4.0 in c:\\users\\pishva_r\\anaconda3\\lib\\site-packages (from Streamlit) (5.2.0)\n",
      "Requirement already satisfied: packaging<25,>=16.8 in c:\\users\\pishva_r\\anaconda3\\lib\\site-packages (from Streamlit) (20.9)\n",
      "Requirement already satisfied: watchdog>=2.1.5 in c:\\users\\pishva_r\\anaconda3\\lib\\site-packages (from Streamlit) (4.0.0)\n",
      "Requirement already satisfied: protobuf<5,>=3.20 in c:\\users\\pishva_r\\anaconda3\\lib\\site-packages (from Streamlit) (4.25.3)\n",
      "Requirement already satisfied: tenacity<9,>=8.1.0 in c:\\users\\pishva_r\\anaconda3\\lib\\site-packages (from Streamlit) (8.2.3)\n",
      "Requirement already satisfied: altair<6,>=4.0 in c:\\users\\pishva_r\\anaconda3\\lib\\site-packages (from Streamlit) (5.3.0)\n",
      "Requirement already satisfied: numpy<2,>=1.19.3 in c:\\users\\pishva_r\\anaconda3\\lib\\site-packages (from Streamlit) (1.24.4)\n",
      "Requirement already satisfied: rich<14,>=10.14.0 in c:\\users\\pishva_r\\anaconda3\\lib\\site-packages (from Streamlit) (13.7.1)\n",
      "Requirement already satisfied: pandas<3,>=1.3.0 in c:\\users\\pishva_r\\anaconda3\\lib\\site-packages (from Streamlit) (2.0.3)\n",
      "Requirement already satisfied: toml<2,>=0.10.1 in c:\\users\\pishva_r\\anaconda3\\lib\\site-packages (from Streamlit) (0.10.2)\n",
      "Requirement already satisfied: typing-extensions<5,>=4.3.0 in c:\\users\\pishva_r\\anaconda3\\lib\\site-packages (from Streamlit) (4.3.0)\n",
      "Requirement already satisfied: pydeck<1,>=0.8.0b4 in c:\\users\\pishva_r\\anaconda3\\lib\\site-packages (from Streamlit) (0.9.0)\n",
      "Requirement already satisfied: tornado<7,>=6.0.3 in c:\\users\\pishva_r\\anaconda3\\lib\\site-packages (from Streamlit) (6.1)\n",
      "Requirement already satisfied: requests<3,>=2.27 in c:\\users\\pishva_r\\anaconda3\\lib\\site-packages (from Streamlit) (2.31.0)\n",
      "Requirement already satisfied: blinker<2,>=1.0.0 in c:\\users\\pishva_r\\anaconda3\\lib\\site-packages (from Streamlit) (1.8.1)\n",
      "Requirement already satisfied: click<9,>=7.0 in c:\\users\\pishva_r\\anaconda3\\lib\\site-packages (from Streamlit) (7.1.2)\n",
      "Requirement already satisfied: pyarrow>=7.0 in c:\\users\\pishva_r\\anaconda3\\lib\\site-packages (from Streamlit) (16.0.0)\n",
      "Requirement already satisfied: pillow<11,>=7.1.0 in c:\\users\\pishva_r\\anaconda3\\lib\\site-packages (from Streamlit) (8.2.0)\n",
      "Requirement already satisfied: gitpython!=3.1.19,<4,>=3.0.7 in c:\\users\\pishva_r\\anaconda3\\lib\\site-packages (from Streamlit) (3.1.43)\n",
      "Requirement already satisfied: toolz in c:\\users\\pishva_r\\anaconda3\\lib\\site-packages (from altair<6,>=4.0->Streamlit) (0.11.1)\n",
      "Requirement already satisfied: jsonschema>=3.0 in c:\\users\\pishva_r\\anaconda3\\lib\\site-packages (from altair<6,>=4.0->Streamlit) (3.2.0)\n",
      "Requirement already satisfied: jinja2 in c:\\users\\pishva_r\\anaconda3\\lib\\site-packages (from altair<6,>=4.0->Streamlit) (2.11.3)\n",
      "Requirement already satisfied: gitdb<5,>=4.0.1 in c:\\users\\pishva_r\\anaconda3\\lib\\site-packages (from gitpython!=3.1.19,<4,>=3.0.7->Streamlit) (4.0.11)\n",
      "Requirement already satisfied: smmap<6,>=3.0.1 in c:\\users\\pishva_r\\anaconda3\\lib\\site-packages (from gitdb<5,>=4.0.1->gitpython!=3.1.19,<4,>=3.0.7->Streamlit) (5.0.1)\n",
      "Requirement already satisfied: attrs>=17.4.0 in c:\\users\\pishva_r\\anaconda3\\lib\\site-packages (from jsonschema>=3.0->altair<6,>=4.0->Streamlit) (20.3.0)\n",
      "Requirement already satisfied: pyrsistent>=0.14.0 in c:\\users\\pishva_r\\anaconda3\\lib\\site-packages (from jsonschema>=3.0->altair<6,>=4.0->Streamlit) (0.17.3)\n",
      "Requirement already satisfied: six>=1.11.0 in c:\\users\\pishva_r\\anaconda3\\lib\\site-packages (from jsonschema>=3.0->altair<6,>=4.0->Streamlit) (1.15.0)\n",
      "Requirement already satisfied: setuptools in c:\\users\\pishva_r\\anaconda3\\lib\\site-packages (from jsonschema>=3.0->altair<6,>=4.0->Streamlit) (52.0.0.post20210125)\n",
      "Requirement already satisfied: pyparsing>=2.0.2 in c:\\users\\pishva_r\\anaconda3\\lib\\site-packages (from packaging<25,>=16.8->Streamlit) (2.4.7)\n",
      "Requirement already satisfied: pytz>=2020.1 in c:\\users\\pishva_r\\anaconda3\\lib\\site-packages (from pandas<3,>=1.3.0->Streamlit) (2021.1)\n",
      "Requirement already satisfied: tzdata>=2022.1 in c:\\users\\pishva_r\\anaconda3\\lib\\site-packages (from pandas<3,>=1.3.0->Streamlit) (2024.1)\n",
      "Requirement already satisfied: python-dateutil>=2.8.2 in c:\\users\\pishva_r\\anaconda3\\lib\\site-packages (from pandas<3,>=1.3.0->Streamlit) (2.9.0.post0)\n",
      "Requirement already satisfied: MarkupSafe>=0.23 in c:\\users\\pishva_r\\anaconda3\\lib\\site-packages (from jinja2->altair<6,>=4.0->Streamlit) (1.1.1)\n",
      "Requirement already satisfied: urllib3<3,>=1.21.1 in c:\\users\\pishva_r\\anaconda3\\lib\\site-packages (from requests<3,>=2.27->Streamlit) (1.26.4)\n",
      "Requirement already satisfied: charset-normalizer<4,>=2 in c:\\users\\pishva_r\\anaconda3\\lib\\site-packages (from requests<3,>=2.27->Streamlit) (3.3.2)\n",
      "Requirement already satisfied: idna<4,>=2.5 in c:\\users\\pishva_r\\anaconda3\\lib\\site-packages (from requests<3,>=2.27->Streamlit) (2.10)\n",
      "Requirement already satisfied: certifi>=2017.4.17 in c:\\users\\pishva_r\\anaconda3\\lib\\site-packages (from requests<3,>=2.27->Streamlit) (2020.12.5)\n",
      "Requirement already satisfied: markdown-it-py>=2.2.0 in c:\\users\\pishva_r\\anaconda3\\lib\\site-packages (from rich<14,>=10.14.0->Streamlit) (3.0.0)\n",
      "Requirement already satisfied: pygments<3.0.0,>=2.13.0 in c:\\users\\pishva_r\\anaconda3\\lib\\site-packages (from rich<14,>=10.14.0->Streamlit) (2.17.2)\n",
      "Requirement already satisfied: mdurl~=0.1 in c:\\users\\pishva_r\\anaconda3\\lib\\site-packages (from markdown-it-py>=2.2.0->rich<14,>=10.14.0->Streamlit) (0.1.2)\n",
      "Note: you may need to restart the kernel to use updated packages.\n"
     ]
    }
   ],
   "source": [
    "pip install Streamlit"
   ]
  },
  {
   "cell_type": "code",
   "execution_count": 3,
   "id": "79ead642",
   "metadata": {},
   "outputs": [
    {
     "name": "stderr",
     "output_type": "stream",
     "text": [
      "2024-05-03 12:47:28.332 \n",
      "  \u001b[33m\u001b[1mWarning:\u001b[0m to view this Streamlit app on a browser, run it with the following\n",
      "  command:\n",
      "\n",
      "    streamlit run C:\\Users\\pishva_r\\Anaconda3\\lib\\site-packages\\ipykernel_launcher.py [ARGUMENTS]\n"
     ]
    }
   ],
   "source": [
    "import streamlit as st\n",
    "from sklearn.datasets import load_iris\n",
    "from sklearn.neighbors import KNeighborsClassifier\n",
    "import joblib\n",
    "\n",
    "# Load the Iris dataset\n",
    "iris = load_iris()\n",
    "X = iris.data\n",
    "y = iris.target\n",
    "\n",
    "# Train the KNN classifier (as shown in the previous code snippet)\n",
    "knn = KNeighborsClassifier(n_neighbors=3)\n",
    "knn.fit(X, y)\n",
    "\n",
    "# Save the model (you can do this in the previous script)\n",
    "joblib.dump(knn, 'knn_model.joblib')\n",
    "\n",
    "# Load the model within the Streamlit script\n",
    "knn_loaded = joblib.load('knn_model.joblib')\n",
    "\n",
    "# Streamlit app\n",
    "st.title('Iris Classification with KNN')\n",
    "\n",
    "# Input bars for the features\n",
    "sepal_length = st.number_input('Sepal Length', min_value=0.0, max_value=10.0, value=5.0)\n",
    "sepal_width = st.number_input('Sepal Width', min_value=0.0, max_value=10.0, value=3.0)\n",
    "petal_length = st.number_input('Petal Length', min_value=0.0, max_value=10.0, value=4.0)\n",
    "petal_width = st.number_input('Petal Width', min_value=0.0, max_value=10.0, value=1.0)\n",
    "\n",
    "# When 'Predict' is clicked, make the prediction and display it\n",
    "if st.button('Predict'):\n",
    "    prediction = knn_loaded.predict([[sepal_length, sepal_width, petal_length, petal_width]])\n",
    "    st.write(f'The predicted class is: {iris.target_names[prediction][0]}')"
   ]
  },
  {
   "cell_type": "code",
   "execution_count": 4,
   "id": "8ac6685c",
   "metadata": {},
   "outputs": [
    {
     "name": "stdout",
     "output_type": "stream",
     "text": [
      "^C\n"
     ]
    }
   ],
   "source": [
    "!streamlit run C:\\Users\\pishva_r\\Anaconda3\\lib\\site-packages\\ipykernel_launcher.py"
   ]
  },
  {
   "cell_type": "code",
   "execution_count": null,
   "id": "5aca0c37",
   "metadata": {},
   "outputs": [],
   "source": []
  }
 ],
 "metadata": {
  "kernelspec": {
   "display_name": "Python 3",
   "language": "python",
   "name": "python3"
  },
  "language_info": {
   "codemirror_mode": {
    "name": "ipython",
    "version": 3
   },
   "file_extension": ".py",
   "mimetype": "text/x-python",
   "name": "python",
   "nbconvert_exporter": "python",
   "pygments_lexer": "ipython3",
   "version": "3.8.8"
  }
 },
 "nbformat": 4,
 "nbformat_minor": 5
}
