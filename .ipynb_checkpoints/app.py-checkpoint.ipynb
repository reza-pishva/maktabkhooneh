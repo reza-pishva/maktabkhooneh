{
 "cells": [
  {
   "cell_type": "code",
   "execution_count": null,
   "id": "2eac2287",
   "metadata": {},
   "outputs": [
    {
     "name": "stderr",
     "output_type": "stream",
     "text": [
      "C:\\Users\\pishva_r\\Anaconda3\\lib\\site-packages\\scipy\\__init__.py:138: UserWarning: A NumPy version >=1.16.5 and <1.23.0 is required for this version of SciPy (detected version 1.24.4)\n",
      "  warnings.warn(f\"A NumPy version >={np_minversion} and <{np_maxversion} is required for this version of \"\n"
     ]
    }
   ],
   "source": [
    "import streamlit as st\n",
    "from sklearn.datasets import load_iris\n",
    "from sklearn.neighbors import KNeighborsClassifier\n",
    "import joblib\n",
    "\n",
    "# Load the Iris dataset\n",
    "iris = load_iris()\n",
    "X = iris.data\n",
    "y = iris.target\n",
    "\n",
    "# Train the KNN classifier (as shown in the previous code snippet)\n",
    "knn = KNeighborsClassifier(n_neighbors=3)\n",
    "knn.fit(X, y)\n",
    "\n",
    "# Save the model (you can do this in the previous script)\n",
    "joblib.dump(knn, 'knn_model.joblib')\n",
    "\n",
    "# Load the model within the Streamlit script\n",
    "knn_loaded = joblib.load('knn_model.joblib')\n",
    "\n",
    "# Streamlit app\n",
    "st.title('Iris Classification with KNN')\n",
    "\n",
    "# Input bars for the features\n",
    "sepal_length = st.number_input('Sepal Length', min_value=0.0, max_value=10.0, value=5.0)\n",
    "sepal_width = st.number_input('Sepal Width', min_value=0.0, max_value=10.0, value=3.0)\n",
    "petal_length = st.number_input('Petal Length', min_value=0.0, max_value=10.0, value=4.0)\n",
    "petal_width = st.number_input('Petal Width', min_value=0.0, max_value=10.0, value=1.0)\n",
    "\n",
    "# When 'Predict' is clicked, make the prediction and display it\n",
    "if st.button('Predict'):\n",
    "    prediction = knn_loaded.predict([[sepal_length, sepal_width, petal_length, petal_width]])\n",
    "    st.write(f'The predicted class is: {iris.target_names[prediction][0]}')\n"
   ]
  },
  {
   "cell_type": "code",
   "execution_count": null,
   "id": "fb7d5634",
   "metadata": {},
   "outputs": [],
   "source": []
  }
 ],
 "metadata": {
  "kernelspec": {
   "display_name": "Python 3",
   "language": "python",
   "name": "python3"
  },
  "language_info": {
   "codemirror_mode": {
    "name": "ipython",
    "version": 3
   },
   "file_extension": ".py",
   "mimetype": "text/x-python",
   "name": "python",
   "nbconvert_exporter": "python",
   "pygments_lexer": "ipython3",
   "version": "3.8.8"
  }
 },
 "nbformat": 4,
 "nbformat_minor": 5
}
