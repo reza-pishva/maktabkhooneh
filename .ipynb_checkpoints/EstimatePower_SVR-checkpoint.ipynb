{
 "cells": [
  {
   "cell_type": "code",
   "execution_count": 433,
   "id": "e9564e95",
   "metadata": {},
   "outputs": [],
   "source": [
    "import numpy as np\n",
    "import pandas as pd\n",
    "import seaborn as sns\n",
    "import matplotlib.pyplot as plt\n",
    "from sklearn.model_selection import train_test_split\n",
    "from sklearn.preprocessing import StandardScaler\n",
    "from sklearn.decomposition import PCA\n",
    "from sklearn.manifold import TSNE\n",
    "from sklearn.ensemble import RandomForestClassifier\n",
    "from sklearn.svm import SVR\n",
    "from sklearn.model_selection import GridSearchCV\n",
    "from sklearn.linear_model import LinearRegression\n",
    "from sklearn.metrics import mean_squared_error,r2_score\n",
    "import warnings\n",
    "warnings.filterwarnings('ignore')"
   ]
  },
  {
   "cell_type": "code",
   "execution_count": 434,
   "id": "442d987d",
   "metadata": {},
   "outputs": [
    {
     "data": {
      "text/html": [
       "<div>\n",
       "<style scoped>\n",
       "    .dataframe tbody tr th:only-of-type {\n",
       "        vertical-align: middle;\n",
       "    }\n",
       "\n",
       "    .dataframe tbody tr th {\n",
       "        vertical-align: top;\n",
       "    }\n",
       "\n",
       "    .dataframe thead th {\n",
       "        text-align: right;\n",
       "    }\n",
       "</style>\n",
       "<table border=\"1\" class=\"dataframe\">\n",
       "  <thead>\n",
       "    <tr style=\"text-align: right;\">\n",
       "      <th></th>\n",
       "      <th>hour</th>\n",
       "      <th>date_miladi</th>\n",
       "      <th>date_shamsi</th>\n",
       "      <th>code</th>\n",
       "      <th>unit_no</th>\n",
       "      <th>fuel_type</th>\n",
       "      <th>mvar</th>\n",
       "      <th>temp</th>\n",
       "      <th>moisture</th>\n",
       "      <th>power</th>\n",
       "    </tr>\n",
       "  </thead>\n",
       "  <tbody>\n",
       "    <tr>\n",
       "      <th>0</th>\n",
       "      <td>1</td>\n",
       "      <td>2020-01-13</td>\n",
       "      <td>1398/10/23</td>\n",
       "      <td>SO</td>\n",
       "      <td>1</td>\n",
       "      <td>A</td>\n",
       "      <td>11</td>\n",
       "      <td>3</td>\n",
       "      <td>94</td>\n",
       "      <td>119</td>\n",
       "    </tr>\n",
       "    <tr>\n",
       "      <th>1</th>\n",
       "      <td>2</td>\n",
       "      <td>2020-01-13</td>\n",
       "      <td>1398/10/23</td>\n",
       "      <td>SO</td>\n",
       "      <td>1</td>\n",
       "      <td>A</td>\n",
       "      <td>11</td>\n",
       "      <td>3</td>\n",
       "      <td>96</td>\n",
       "      <td>119</td>\n",
       "    </tr>\n",
       "    <tr>\n",
       "      <th>2</th>\n",
       "      <td>3</td>\n",
       "      <td>2020-01-13</td>\n",
       "      <td>1398/10/23</td>\n",
       "      <td>SO</td>\n",
       "      <td>1</td>\n",
       "      <td>A</td>\n",
       "      <td>10</td>\n",
       "      <td>2</td>\n",
       "      <td>95</td>\n",
       "      <td>120</td>\n",
       "    </tr>\n",
       "    <tr>\n",
       "      <th>3</th>\n",
       "      <td>4</td>\n",
       "      <td>2020-01-13</td>\n",
       "      <td>1398/10/23</td>\n",
       "      <td>SO</td>\n",
       "      <td>1</td>\n",
       "      <td>A</td>\n",
       "      <td>11</td>\n",
       "      <td>2</td>\n",
       "      <td>95</td>\n",
       "      <td>120</td>\n",
       "    </tr>\n",
       "    <tr>\n",
       "      <th>4</th>\n",
       "      <td>5</td>\n",
       "      <td>2020-01-13</td>\n",
       "      <td>1398/10/23</td>\n",
       "      <td>SO</td>\n",
       "      <td>1</td>\n",
       "      <td>A</td>\n",
       "      <td>11</td>\n",
       "      <td>2</td>\n",
       "      <td>95</td>\n",
       "      <td>121</td>\n",
       "    </tr>\n",
       "  </tbody>\n",
       "</table>\n",
       "</div>"
      ],
      "text/plain": [
       "   hour date_miladi date_shamsi code  unit_no fuel_type  mvar  temp  moisture  \\\n",
       "0     1  2020-01-13  1398/10/23   SO        1         A    11     3        94   \n",
       "1     2  2020-01-13  1398/10/23   SO        1         A    11     3        96   \n",
       "2     3  2020-01-13  1398/10/23   SO        1         A    10     2        95   \n",
       "3     4  2020-01-13  1398/10/23   SO        1         A    11     2        95   \n",
       "4     5  2020-01-13  1398/10/23   SO        1         A    11     2        95   \n",
       "\n",
       "   power  \n",
       "0    119  \n",
       "1    119  \n",
       "2    120  \n",
       "3    120  \n",
       "4    121  "
      ]
     },
     "execution_count": 434,
     "metadata": {},
     "output_type": "execute_result"
    }
   ],
   "source": [
    "data = pd.read_excel(\"test.xlsx\")\n",
    "data.head()"
   ]
  },
  {
   "cell_type": "code",
   "execution_count": 435,
   "id": "805b6724",
   "metadata": {},
   "outputs": [
    {
     "data": {
      "text/plain": [
       "(756, 10)"
      ]
     },
     "execution_count": 435,
     "metadata": {},
     "output_type": "execute_result"
    }
   ],
   "source": [
    "data=data[data[\"power\"]>100]\n",
    "data.shape"
   ]
  },
  {
   "cell_type": "code",
   "execution_count": null,
   "id": "0ec20a6c",
   "metadata": {},
   "outputs": [],
   "source": []
  },
  {
   "cell_type": "code",
   "execution_count": 436,
   "id": "0fcbc090",
   "metadata": {},
   "outputs": [],
   "source": [
    "# Change object to integer:\n",
    "data[\"fuel_type\"][data[\"fuel_type\"]==\"A\"] = 1; \n",
    "data[\"fuel_type\"][data[\"fuel_type\"]==\"B\"] = 2;\n",
    "data[\"fuel_type\"][data[\"fuel_type\"]==\"C\"] = 3;"
   ]
  },
  {
   "cell_type": "code",
   "execution_count": 437,
   "id": "f21909fe",
   "metadata": {},
   "outputs": [
    {
     "data": {
      "text/plain": [
       "1    508\n",
       "Name: fuel_type, dtype: int64"
      ]
     },
     "execution_count": 437,
     "metadata": {},
     "output_type": "execute_result"
    }
   ],
   "source": [
    "data['fuel_type'].value_counts()"
   ]
  },
  {
   "cell_type": "code",
   "execution_count": 438,
   "id": "490a95c0",
   "metadata": {},
   "outputs": [],
   "source": [
    "data[\"fuel_type\"].fillna(method='bfill', inplace=True)"
   ]
  },
  {
   "cell_type": "code",
   "execution_count": 439,
   "id": "a56f4116",
   "metadata": {},
   "outputs": [
    {
     "data": {
      "text/plain": [
       "hour           0\n",
       "date_miladi    0\n",
       "date_shamsi    0\n",
       "code           0\n",
       "unit_no        0\n",
       "fuel_type      0\n",
       "mvar           0\n",
       "temp           0\n",
       "moisture       0\n",
       "power          0\n",
       "dtype: int64"
      ]
     },
     "execution_count": 439,
     "metadata": {},
     "output_type": "execute_result"
    }
   ],
   "source": [
    "data.isnull().sum()"
   ]
  },
  {
   "cell_type": "code",
   "execution_count": 440,
   "id": "5c5e9906",
   "metadata": {},
   "outputs": [
    {
     "data": {
      "text/html": [
       "<div>\n",
       "<style scoped>\n",
       "    .dataframe tbody tr th:only-of-type {\n",
       "        vertical-align: middle;\n",
       "    }\n",
       "\n",
       "    .dataframe tbody tr th {\n",
       "        vertical-align: top;\n",
       "    }\n",
       "\n",
       "    .dataframe thead th {\n",
       "        text-align: right;\n",
       "    }\n",
       "</style>\n",
       "<table border=\"1\" class=\"dataframe\">\n",
       "  <thead>\n",
       "    <tr style=\"text-align: right;\">\n",
       "      <th></th>\n",
       "      <th>power</th>\n",
       "    </tr>\n",
       "  </thead>\n",
       "  <tbody>\n",
       "    <tr>\n",
       "      <th>0</th>\n",
       "      <td>119</td>\n",
       "    </tr>\n",
       "    <tr>\n",
       "      <th>1</th>\n",
       "      <td>119</td>\n",
       "    </tr>\n",
       "    <tr>\n",
       "      <th>2</th>\n",
       "      <td>120</td>\n",
       "    </tr>\n",
       "    <tr>\n",
       "      <th>3</th>\n",
       "      <td>120</td>\n",
       "    </tr>\n",
       "    <tr>\n",
       "      <th>4</th>\n",
       "      <td>121</td>\n",
       "    </tr>\n",
       "    <tr>\n",
       "      <th>...</th>\n",
       "      <td>...</td>\n",
       "    </tr>\n",
       "    <tr>\n",
       "      <th>994</th>\n",
       "      <td>110</td>\n",
       "    </tr>\n",
       "    <tr>\n",
       "      <th>995</th>\n",
       "      <td>127</td>\n",
       "    </tr>\n",
       "    <tr>\n",
       "      <th>996</th>\n",
       "      <td>127</td>\n",
       "    </tr>\n",
       "    <tr>\n",
       "      <th>997</th>\n",
       "      <td>124</td>\n",
       "    </tr>\n",
       "    <tr>\n",
       "      <th>998</th>\n",
       "      <td>126</td>\n",
       "    </tr>\n",
       "  </tbody>\n",
       "</table>\n",
       "<p>756 rows × 1 columns</p>\n",
       "</div>"
      ],
      "text/plain": [
       "     power\n",
       "0      119\n",
       "1      119\n",
       "2      120\n",
       "3      120\n",
       "4      121\n",
       "..     ...\n",
       "994    110\n",
       "995    127\n",
       "996    127\n",
       "997    124\n",
       "998    126\n",
       "\n",
       "[756 rows x 1 columns]"
      ]
     },
     "execution_count": 440,
     "metadata": {},
     "output_type": "execute_result"
    }
   ],
   "source": [
    "X = data[[\"moisture\",\"unit_no\",\"temp\",\"fuel_type\"]]\n",
    "y = data[[\"power\"]]\n",
    "y"
   ]
  },
  {
   "cell_type": "code",
   "execution_count": 441,
   "id": "bb4f7371",
   "metadata": {},
   "outputs": [
    {
     "data": {
      "text/html": [
       "<div>\n",
       "<style scoped>\n",
       "    .dataframe tbody tr th:only-of-type {\n",
       "        vertical-align: middle;\n",
       "    }\n",
       "\n",
       "    .dataframe tbody tr th {\n",
       "        vertical-align: top;\n",
       "    }\n",
       "\n",
       "    .dataframe thead th {\n",
       "        text-align: right;\n",
       "    }\n",
       "</style>\n",
       "<table border=\"1\" class=\"dataframe\">\n",
       "  <thead>\n",
       "    <tr style=\"text-align: right;\">\n",
       "      <th></th>\n",
       "      <th>moisture</th>\n",
       "      <th>unit_no</th>\n",
       "      <th>temp</th>\n",
       "      <th>fuel_type</th>\n",
       "    </tr>\n",
       "  </thead>\n",
       "  <tbody>\n",
       "    <tr>\n",
       "      <th>0</th>\n",
       "      <td>94</td>\n",
       "      <td>1</td>\n",
       "      <td>3</td>\n",
       "      <td>1</td>\n",
       "    </tr>\n",
       "    <tr>\n",
       "      <th>1</th>\n",
       "      <td>96</td>\n",
       "      <td>1</td>\n",
       "      <td>3</td>\n",
       "      <td>1</td>\n",
       "    </tr>\n",
       "    <tr>\n",
       "      <th>2</th>\n",
       "      <td>95</td>\n",
       "      <td>1</td>\n",
       "      <td>2</td>\n",
       "      <td>1</td>\n",
       "    </tr>\n",
       "    <tr>\n",
       "      <th>3</th>\n",
       "      <td>95</td>\n",
       "      <td>1</td>\n",
       "      <td>2</td>\n",
       "      <td>1</td>\n",
       "    </tr>\n",
       "    <tr>\n",
       "      <th>4</th>\n",
       "      <td>95</td>\n",
       "      <td>1</td>\n",
       "      <td>2</td>\n",
       "      <td>1</td>\n",
       "    </tr>\n",
       "    <tr>\n",
       "      <th>...</th>\n",
       "      <td>...</td>\n",
       "      <td>...</td>\n",
       "      <td>...</td>\n",
       "      <td>...</td>\n",
       "    </tr>\n",
       "    <tr>\n",
       "      <th>994</th>\n",
       "      <td>6</td>\n",
       "      <td>6</td>\n",
       "      <td>15</td>\n",
       "      <td>1</td>\n",
       "    </tr>\n",
       "    <tr>\n",
       "      <th>995</th>\n",
       "      <td>8</td>\n",
       "      <td>6</td>\n",
       "      <td>16</td>\n",
       "      <td>1</td>\n",
       "    </tr>\n",
       "    <tr>\n",
       "      <th>996</th>\n",
       "      <td>21</td>\n",
       "      <td>6</td>\n",
       "      <td>18</td>\n",
       "      <td>1</td>\n",
       "    </tr>\n",
       "    <tr>\n",
       "      <th>997</th>\n",
       "      <td>11</td>\n",
       "      <td>6</td>\n",
       "      <td>19</td>\n",
       "      <td>1</td>\n",
       "    </tr>\n",
       "    <tr>\n",
       "      <th>998</th>\n",
       "      <td>19</td>\n",
       "      <td>6</td>\n",
       "      <td>19</td>\n",
       "      <td>1</td>\n",
       "    </tr>\n",
       "  </tbody>\n",
       "</table>\n",
       "<p>756 rows × 4 columns</p>\n",
       "</div>"
      ],
      "text/plain": [
       "     moisture  unit_no  temp  fuel_type\n",
       "0          94        1     3          1\n",
       "1          96        1     3          1\n",
       "2          95        1     2          1\n",
       "3          95        1     2          1\n",
       "4          95        1     2          1\n",
       "..        ...      ...   ...        ...\n",
       "994         6        6    15          1\n",
       "995         8        6    16          1\n",
       "996        21        6    18          1\n",
       "997        11        6    19          1\n",
       "998        19        6    19          1\n",
       "\n",
       "[756 rows x 4 columns]"
      ]
     },
     "execution_count": 441,
     "metadata": {},
     "output_type": "execute_result"
    }
   ],
   "source": [
    "X"
   ]
  },
  {
   "cell_type": "code",
   "execution_count": 442,
   "id": "213cd6a5",
   "metadata": {},
   "outputs": [],
   "source": [
    "X_train, X_test, y_train, y_test = train_test_split(X, y, test_size = 0.25, random_state = 42)"
   ]
  },
  {
   "cell_type": "code",
   "execution_count": 443,
   "id": "ddb49db0",
   "metadata": {},
   "outputs": [],
   "source": [
    "scaler = StandardScaler()\n",
    "X_train_scaled = scaler.fit_transform(X_train)\n",
    "X_test_scaled = scaler.fit_transform(X_test)"
   ]
  },
  {
   "cell_type": "markdown",
   "id": "24516984",
   "metadata": {},
   "source": [
    "## Tuning Hyperparameters by using GridSearchCV"
   ]
  },
  {
   "cell_type": "code",
   "execution_count": 444,
   "id": "0266af9a",
   "metadata": {},
   "outputs": [
    {
     "name": "stdout",
     "output_type": "stream",
     "text": [
      "Best hyperparameters: {'C': 1000, 'epsilon': 10, 'kernel': 'rbf'}\n",
      "Best score: 0.44384067195641014\n"
     ]
    }
   ],
   "source": [
    "# Define the SVR model\n",
    "svr = SVR()\n",
    "\n",
    "# Define the hyperparameters to tune\n",
    "param_grid = {'kernel': ['linear', 'rbf', 'poly'],\n",
    "              'C': [0.001,0.01,0.1, 1, 10,100,1000],\n",
    "              'epsilon': [0.001,0.01,0.1, 1, 10,100,1000]}\n",
    "\n",
    "# Perform grid search to find the best hyperparameters\n",
    "grid_search = GridSearchCV(svr, param_grid, cv=5)\n",
    "grid_search.fit(X_train_scaled, y_train)\n",
    "\n",
    "# Print the best hyperparameters\n",
    "print(\"Best hyperparameters:\", grid_search.best_params_)\n",
    "print(\"Best score:\", grid_search.best_score_)\n"
   ]
  },
  {
   "cell_type": "markdown",
   "id": "d7e10935",
   "metadata": {},
   "source": [
    "# Evaluation"
   ]
  },
  {
   "cell_type": "code",
   "execution_count": 445,
   "id": "51e87888",
   "metadata": {},
   "outputs": [],
   "source": [
    "svr = SVR(C=1000, epsilon=10, kernel='rbf')\n",
    "svr.fit(X_train_scaled,y_train)\n",
    "y_pred=svr.predict(X_test_scaled)"
   ]
  },
  {
   "cell_type": "code",
   "execution_count": 446,
   "id": "c7db6f71",
   "metadata": {},
   "outputs": [
    {
     "name": "stdout",
     "output_type": "stream",
     "text": [
      "Mean squared error: 98.46952455407842\n",
      "R-squared: 0.013041958241727714\n"
     ]
    }
   ],
   "source": [
    "mse=mean_squared_error(y_pred,y_test)\n",
    "r2=r2_score(y_pred,y_test)\n",
    "print(\"Mean squared error:\",mse)\n",
    "print(\"R-squared:\",r2)"
   ]
  },
  {
   "cell_type": "code",
   "execution_count": 453,
   "id": "941ddf10",
   "metadata": {},
   "outputs": [
    {
     "name": "stdout",
     "output_type": "stream",
     "text": [
      "123.16746157902622\n"
     ]
    }
   ],
   "source": [
    "row = np.array([45,6,30,1])\n",
    "X_test_scaled = scaler.transform([row])\n",
    "y_pred = svr.predict(X_test_scaled)\n",
    "print(y_pred[0])"
   ]
  },
  {
   "cell_type": "markdown",
   "id": "ba7dc9ac",
   "metadata": {},
   "source": [
    "### Evaluation without scaling"
   ]
  },
  {
   "cell_type": "code",
   "execution_count": null,
   "id": "36de0588",
   "metadata": {},
   "outputs": [],
   "source": [
    "# we can see the result without scaling.\n",
    "svr2 =SVR(C=1000, epsilon=10, kernel='rbf')\n",
    "svr2.fit(X_train,y_train)\n",
    "y_pred=svr2.predict(X_test)"
   ]
  },
  {
   "cell_type": "code",
   "execution_count": null,
   "id": "b06669ab",
   "metadata": {},
   "outputs": [],
   "source": [
    "mse=mean_squared_error(y_pred,y_test)\n",
    "r2=r2_score(y_pred,y_test)\n",
    "print(\"Mean squared error:\",mse)\n",
    "print(\"R-squared:\",r2)"
   ]
  }
 ],
 "metadata": {
  "kernelspec": {
   "display_name": "Python 3",
   "language": "python",
   "name": "python3"
  },
  "language_info": {
   "codemirror_mode": {
    "name": "ipython",
    "version": 3
   },
   "file_extension": ".py",
   "mimetype": "text/x-python",
   "name": "python",
   "nbconvert_exporter": "python",
   "pygments_lexer": "ipython3",
   "version": "3.8.8"
  }
 },
 "nbformat": 4,
 "nbformat_minor": 5
}
